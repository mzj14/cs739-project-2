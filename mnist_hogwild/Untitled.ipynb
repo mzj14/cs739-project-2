{
 "cells": [
  {
   "cell_type": "code",
   "execution_count": null,
   "metadata": {},
   "outputs": [],
   "source": [
    "from main import *\n",
    "\n",
    "start_time = time.time();\n",
    "args = parser.parse_args(\"--num-processes 4 --epochs 4 --log-interval 100\".split())\n",
    "\n",
    "use_cuda = args.cuda and torch.cuda.is_available()\n",
    "device = torch.device(\"cuda\" if use_cuda else \"cpu\")\n",
    "dataloader_kwargs = {'pin_memory': True} if use_cuda else {}\n",
    "\n",
    "torch.manual_seed(args.seed)\n",
    "mp.set_start_method('spawn')\n",
    "\n",
    "model = Net().to(device)\n",
    "model.share_memory() # gradients are allocated lazily, so they are not shared here\n",
    "\n",
    "processes = []\n",
    "for rank in range(args.num_processes):\n",
    "    p = mp.Process(target=train, args=(rank, args, model, device, dataloader_kwargs))\n",
    "    # We first train the model across `num_processes` processes\n",
    "    p.start()\n",
    "    processes.append(p)\n",
    "for p in processes:\n",
    "    p.join()\n",
    "\n",
    "elapsed_time = (time.time() - start_time) * 1000;\n",
    "\n",
    "# Once training is complete, we can test the model\n",
    "test(args, model, device, dataloader_kwargs)\n",
    "\n",
    "print(\"Total training completion time is {} ms\".format(int(round(elapsed_time))))\n",
    "\n"
   ]
  }
 ],
 "metadata": {
  "kernelspec": {
   "display_name": "Python 3",
   "language": "python",
   "name": "python3"
  },
  "language_info": {
   "codemirror_mode": {
    "name": "ipython",
    "version": 3
   },
   "file_extension": ".py",
   "mimetype": "text/x-python",
   "name": "python",
   "nbconvert_exporter": "python",
   "pygments_lexer": "ipython3",
   "version": "3.7.3"
  }
 },
 "nbformat": 4,
 "nbformat_minor": 2
}
